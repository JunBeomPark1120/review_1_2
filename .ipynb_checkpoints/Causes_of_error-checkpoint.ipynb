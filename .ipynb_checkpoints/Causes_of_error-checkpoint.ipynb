{
 "cells": [
  {
   "cell_type": "markdown",
   "id": "35353bf6-bf8a-4755-a082-b7f777d3fc60",
   "metadata": {},
   "source": [
    "# 변수 내 문자열 수업 중"
   ]
  },
  {
   "cell_type": "code",
   "execution_count": 1,
   "id": "e58e8627-6907-47b3-8cf0-09423231e4ba",
   "metadata": {},
   "outputs": [
    {
     "ename": "SyntaxError",
     "evalue": "invalid syntax. Perhaps you forgot a comma? (2892615836.py, line 1)",
     "output_type": "error",
     "traceback": [
      "\u001b[1;36m  Cell \u001b[1;32mIn[1], line 1\u001b[1;36m\u001b[0m\n\u001b[1;33m    print('안녕하세요? '박준범'입니다.')\u001b[0m\n\u001b[1;37m          ^\u001b[0m\n\u001b[1;31mSyntaxError\u001b[0m\u001b[1;31m:\u001b[0m invalid syntax. Perhaps you forgot a comma?\n"
     ]
    }
   ],
   "source": [
    "print('안녕하세요? '박준범'입니다.')\n",
    "# 아래와 같은 오류가 발생한 이유?\n",
    "# invalid syntax : python 내에서 가장 많이 보이는 오류 중 하나\n",
    "# 문법 상 에러가 발생하는 경우 중 하나"
   ]
  },
  {
   "cell_type": "code",
   "execution_count": 2,
   "id": "601539a5-c0fc-45b0-91a8-34b2f1268277",
   "metadata": {},
   "outputs": [],
   "source": [
    "a = 1\n",
    "b = '번'"
   ]
  },
  {
   "cell_type": "code",
   "execution_count": 3,
   "id": "800b88ec-465f-4843-90c3-0e4141e2743d",
   "metadata": {},
   "outputs": [
    {
     "ename": "TypeError",
     "evalue": "unsupported operand type(s) for +: 'int' and 'str'",
     "output_type": "error",
     "traceback": [
      "\u001b[1;31m---------------------------------------------------------------------------\u001b[0m",
      "\u001b[1;31mTypeError\u001b[0m                                 Traceback (most recent call last)",
      "Cell \u001b[1;32mIn[3], line 1\u001b[0m\n\u001b[1;32m----> 1\u001b[0m \u001b[38;5;28mprint\u001b[39m(\u001b[43ma\u001b[49m\u001b[43m \u001b[49m\u001b[38;5;241;43m+\u001b[39;49m\u001b[43m \u001b[49m\u001b[43mb\u001b[49m)\n",
      "\u001b[1;31mTypeError\u001b[0m: unsupported operand type(s) for +: 'int' and 'str'"
     ]
    }
   ],
   "source": [
    "print(a + b)\n",
    "# 아래와 같은 오류가 발생한 이유?\n",
    "# 똑같은 자료형을 연산해야 하지만 int형과 str형을 연산하려\n",
    "# 하였음. 따라서 오류 발생"
   ]
  },
  {
   "cell_type": "code",
   "execution_count": 4,
   "id": "874cd168-b65c-4f23-a143-03d93d406070",
   "metadata": {},
   "outputs": [],
   "source": [
    "a = '3.3'"
   ]
  },
  {
   "cell_type": "code",
   "execution_count": 10,
   "id": "c8546cf6-c598-497e-bf90-24ab4218278d",
   "metadata": {},
   "outputs": [
    {
     "ename": "ValueError",
     "evalue": "invalid literal for int() with base 10: '3.3'",
     "output_type": "error",
     "traceback": [
      "\u001b[1;31m---------------------------------------------------------------------------\u001b[0m",
      "\u001b[1;31mValueError\u001b[0m                                Traceback (most recent call last)",
      "Cell \u001b[1;32mIn[10], line 1\u001b[0m\n\u001b[1;32m----> 1\u001b[0m \u001b[38;5;28mtype\u001b[39m(\u001b[38;5;28;43mint\u001b[39;49m\u001b[43m(\u001b[49m\u001b[43ma\u001b[49m\u001b[43m)\u001b[49m)\n\u001b[0;32m      2\u001b[0m \u001b[38;5;66;03m# 아래와 같은 오류가 발생한 이유?\u001b[39;00m\n\u001b[0;32m      3\u001b[0m \u001b[38;5;66;03m# invalid literal for int() : int형변환 오류이다.\u001b[39;00m\n\u001b[0;32m      4\u001b[0m \u001b[38;5;66;03m# 현재 a는 int형으로 변환되기 전 '3.3'이라는 문자열로\u001b[39;00m\n\u001b[0;32m      5\u001b[0m \u001b[38;5;66;03m# 받았기 때문에 int()형 타입 체크를 하면 오류가 발생함.\u001b[39;00m\n",
      "\u001b[1;31mValueError\u001b[0m: invalid literal for int() with base 10: '3.3'"
     ]
    }
   ],
   "source": [
    "type(int(a))\n",
    "# 아래와 같은 오류가 발생한 이유?\n",
    "# invalid literal for int() : int형변환 오류이다.\n",
    "# 현재 a는 int형으로 변환되기 전 '3.3'이라는 문자열로\n",
    "# 받았기 때문에 int()형 타입 체크를 하면 오류가 발생함."
   ]
  },
  {
   "cell_type": "markdown",
   "id": "85f311b7-0804-43b7-ba5a-46bbc0720c11",
   "metadata": {},
   "source": [
    "# 시퀀스 자료형 중 튜플 관련"
   ]
  },
  {
   "cell_type": "code",
   "execution_count": 6,
   "id": "0441f4bc-7594-466c-8fd6-6e4e41ffe1ee",
   "metadata": {},
   "outputs": [
    {
     "name": "stdout",
     "output_type": "stream",
     "text": [
      "(1, 2, 3)\n",
      "<class 'tuple'>\n",
      "3\n"
     ]
    }
   ],
   "source": [
    "t = (1,2,3)\n",
    "print(t)\n",
    "print(type(t))\n",
    "print(t[2])"
   ]
  },
  {
   "cell_type": "code",
   "execution_count": 9,
   "id": "6f6d19a7-f77a-4396-b1ab-fa6a7ce0c507",
   "metadata": {},
   "outputs": [
    {
     "ename": "TypeError",
     "evalue": "'tuple' object does not support item assignment",
     "output_type": "error",
     "traceback": [
      "\u001b[1;31m---------------------------------------------------------------------------\u001b[0m",
      "\u001b[1;31mTypeError\u001b[0m                                 Traceback (most recent call last)",
      "Cell \u001b[1;32mIn[9], line 1\u001b[0m\n\u001b[1;32m----> 1\u001b[0m \u001b[43mt\u001b[49m\u001b[43m[\u001b[49m\u001b[38;5;241;43m2\u001b[39;49m\u001b[43m]\u001b[49m \u001b[38;5;241m=\u001b[39m \u001b[38;5;241m5\u001b[39m\n\u001b[0;32m      2\u001b[0m \u001b[38;5;66;03m# 아래와 같은 오류가 발생한 이유?\u001b[39;00m\n\u001b[0;32m      3\u001b[0m \u001b[38;5;66;03m# 'tuple' object does not support item assignment\u001b[39;00m\n\u001b[0;32m      4\u001b[0m \u001b[38;5;66;03m# 튜플은 내부에서 수정이 불가함.\u001b[39;00m\n\u001b[0;32m      5\u001b[0m \u001b[38;5;66;03m# why? immutable이기 때문!\u001b[39;00m\n\u001b[0;32m      6\u001b[0m \u001b[38;5;66;03m# 따라서 튜플은 이와 같은 초기화가 허용되지 않음.\u001b[39;00m\n\u001b[0;32m      7\u001b[0m \u001b[38;5;66;03m# 단, 리스트는 가능하다.\u001b[39;00m\n",
      "\u001b[1;31mTypeError\u001b[0m: 'tuple' object does not support item assignment"
     ]
    }
   ],
   "source": [
    "t[2] = 5\n",
    "# 아래와 같은 오류가 발생한 이유?\n",
    "# 'tuple' object does not support item assignment\n",
    "# 튜플은 내부에서 수정이 불가함.\n",
    "# why? immutable이기 때문!\n",
    "# 따라서 튜플은 이와 같은 초기화가 허용되지 않음.\n",
    "# 단, 리스트는 가능하다."
   ]
  },
  {
   "cell_type": "markdown",
   "id": "f881670c-2c26-41a3-8f1a-151359437c52",
   "metadata": {},
   "source": [
    "# 함수의 인수 중 위치 인수 관련 오류"
   ]
  },
  {
   "cell_type": "code",
   "execution_count": 12,
   "id": "93cbb7cd-b67e-46e2-ab7b-b748986376a9",
   "metadata": {},
   "outputs": [
    {
     "name": "stdout",
     "output_type": "stream",
     "text": [
      "창희님 반갑습니다.\n",
      "익명님 반갑습니다.\n"
     ]
    }
   ],
   "source": [
    "def greeting(name = '익명'):\n",
    "    return f'{name}님 반갑습니다.'\n",
    "print(greeting('창희'))\n",
    "print(greeting())\n",
    "# 위와 같이 '익명' 이라는 기본값을 할당되면 오류 출력X"
   ]
  },
  {
   "cell_type": "code",
   "execution_count": 14,
   "id": "8e494e12-d690-4ba0-b89a-74e002d1c125",
   "metadata": {},
   "outputs": [
    {
     "name": "stdout",
     "output_type": "stream",
     "text": [
      "창희님 반갑습니다.\n"
     ]
    },
    {
     "ename": "TypeError",
     "evalue": "greeting() missing 1 required positional argument: 'name'",
     "output_type": "error",
     "traceback": [
      "\u001b[1;31m---------------------------------------------------------------------------\u001b[0m",
      "\u001b[1;31mTypeError\u001b[0m                                 Traceback (most recent call last)",
      "Cell \u001b[1;32mIn[14], line 4\u001b[0m\n\u001b[0;32m      2\u001b[0m     \u001b[38;5;28;01mreturn\u001b[39;00m \u001b[38;5;124mf\u001b[39m\u001b[38;5;124m'\u001b[39m\u001b[38;5;132;01m{\u001b[39;00mname\u001b[38;5;132;01m}\u001b[39;00m\u001b[38;5;124m님 반갑습니다.\u001b[39m\u001b[38;5;124m'\u001b[39m\n\u001b[0;32m      3\u001b[0m \u001b[38;5;28mprint\u001b[39m(greeting(\u001b[38;5;124m'\u001b[39m\u001b[38;5;124m창희\u001b[39m\u001b[38;5;124m'\u001b[39m))\n\u001b[1;32m----> 4\u001b[0m \u001b[38;5;28mprint\u001b[39m(\u001b[43mgreeting\u001b[49m\u001b[43m(\u001b[49m\u001b[43m)\u001b[49m)\n\u001b[0;32m      5\u001b[0m \u001b[38;5;66;03m# 위와 같이 '익명' 이라는 기본값을 할당되면 오류 출력X\u001b[39;00m\n\u001b[0;32m      6\u001b[0m \u001b[38;5;66;03m# 그러나 기본값 할당 없이 인자 안에 아무것도 없으면 error가 발생함.\u001b[39;00m\n",
      "\u001b[1;31mTypeError\u001b[0m: greeting() missing 1 required positional argument: 'name'"
     ]
    }
   ],
   "source": [
    "def greeting(name):\n",
    "    return f'{name}님 반갑습니다.'\n",
    "print(greeting('창희'))\n",
    "print(greeting())\n",
    "# 위와 같이 '익명' 이라는 기본값을 할당되면 오류 출력X\n",
    "# 그러나 기본값 할당 없이 인자 안에 아무것도 없으면 error가 발생함."
   ]
  },
  {
   "cell_type": "code",
   "execution_count": 15,
   "id": "48f57a10-9771-449d-82ec-a48aef255064",
   "metadata": {},
   "outputs": [
    {
     "ename": "SyntaxError",
     "evalue": "non-default argument follows default argument (2339493579.py, line 2)",
     "output_type": "error",
     "traceback": [
      "\u001b[1;36m  Cell \u001b[1;32mIn[15], line 2\u001b[1;36m\u001b[0m\n\u001b[1;33m    def greeeting(name = '익명', age):\u001b[0m\n\u001b[1;37m                               ^\u001b[0m\n\u001b[1;31mSyntaxError\u001b[0m\u001b[1;31m:\u001b[0m non-default argument follows default argument\n"
     ]
    }
   ],
   "source": [
    "def greeeting(name = '익명', age):\n",
    "    return f'{name}님은 {age}입니다.'\n",
    "# 마찬가지로 age에 기본값 할당이 되어있지 않으면 오류발생"
   ]
  },
  {
   "cell_type": "code",
   "execution_count": 16,
   "id": "7eb67824-e72d-4167-8c70-56c6f6a99721",
   "metadata": {},
   "outputs": [
    {
     "name": "stdout",
     "output_type": "stream",
     "text": [
      "홍길동님은 10입니다.\n",
      "익명님은 20입니다.\n"
     ]
    }
   ],
   "source": [
    "#기본인자의 순서가 잘못 명시되어 있으면?\n",
    "#올바른 코드\n",
    "def greeting(age, name = '익명'):\n",
    "    return f'{name}님은 {age}입니다.'\n",
    "\n",
    "print(greeting(10,'홍길동'))\n",
    "print(greeting(20))"
   ]
  },
  {
   "cell_type": "markdown",
   "id": "5f582a1e-fa2f-4a0e-a1a7-22ea78e2732c",
   "metadata": {},
   "source": [
    "# 함수의 인수 중 이름공간에 관련 오류"
   ]
  },
  {
   "cell_type": "code",
   "execution_count": 18,
   "id": "560d9aa7-657a-47d1-831f-758f7c621c11",
   "metadata": {},
   "outputs": [],
   "source": [
    "str='123'"
   ]
  },
  {
   "cell_type": "code",
   "execution_count": 19,
   "id": "3ae7301a-7b2a-4806-b212-5d227f38bb37",
   "metadata": {},
   "outputs": [
    {
     "name": "stdout",
     "output_type": "stream",
     "text": [
      "123\n"
     ]
    }
   ],
   "source": [
    "print(str)"
   ]
  },
  {
   "cell_type": "code",
   "execution_count": 23,
   "id": "203c7e83-ecdb-4115-b261-366d67680507",
   "metadata": {},
   "outputs": [
    {
     "ename": "TypeError",
     "evalue": "'str' object is not callable",
     "output_type": "error",
     "traceback": [
      "\u001b[1;31m---------------------------------------------------------------------------\u001b[0m",
      "\u001b[1;31mTypeError\u001b[0m                                 Traceback (most recent call last)",
      "Cell \u001b[1;32mIn[23], line 1\u001b[0m\n\u001b[1;32m----> 1\u001b[0m \u001b[38;5;28;43mstr\u001b[39;49m\u001b[43m(\u001b[49m\u001b[38;5;241;43m789\u001b[39;49m\u001b[43m)\u001b[49m\n\u001b[0;32m      2\u001b[0m \u001b[38;5;66;03m# str은 문자열을 저장하는 기능을 가짐\u001b[39;00m\n\u001b[0;32m      3\u001b[0m \u001b[38;5;66;03m# 그러나 str을 변수로 정의해버리면 str은 단순한 변수명이\u001b[39;00m\n\u001b[0;32m      4\u001b[0m \u001b[38;5;66;03m# 되어 본래의 기능을 잃어버리는 현상이 나타남\u001b[39;00m\n\u001b[0;32m      5\u001b[0m \u001b[38;5;66;03m# 따라서 예약어 숙지가 필수가 됌\u001b[39;00m\n",
      "\u001b[1;31mTypeError\u001b[0m: 'str' object is not callable"
     ]
    }
   ],
   "source": [
    "str(789)\n",
    "# str은 문자열을 저장하는 기능을 가짐\n",
    "# 그러나 str을 변수로 정의해버리면 str은 단순한 변수명이\n",
    "# 되어 본래의 기능을 잃어버리는 현상이 나타남\n",
    "# 따라서 예약어 숙지가 필수가 됌"
   ]
  },
  {
   "cell_type": "code",
   "execution_count": null,
   "id": "7d2bb283-3083-4842-bebf-ea7c84e4ed6e",
   "metadata": {},
   "outputs": [],
   "source": []
  }
 ],
 "metadata": {
  "kernelspec": {
   "display_name": "Python 3 (ipykernel)",
   "language": "python",
   "name": "python3"
  },
  "language_info": {
   "codemirror_mode": {
    "name": "ipython",
    "version": 3
   },
   "file_extension": ".py",
   "mimetype": "text/x-python",
   "name": "python",
   "nbconvert_exporter": "python",
   "pygments_lexer": "ipython3",
   "version": "3.11.4"
  }
 },
 "nbformat": 4,
 "nbformat_minor": 5
}
